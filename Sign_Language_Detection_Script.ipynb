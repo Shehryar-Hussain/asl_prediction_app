{
  "cells": [
    {
      "attachments": {},
      "cell_type": "markdown",
      "metadata": {
        "colab_type": "text",
        "id": "view-in-github"
      },
      "source": [
        "<a href=\"https://colab.research.google.com/gist/Shehryar-Hussain/f5ad237bd4923641fd985134a8a574a9/final_project.ipynb\" target=\"_parent\"><img src=\"https://colab.research.google.com/assets/colab-badge.svg\" alt=\"Open In Colab\"/></a>"
      ]
    },
    {
      "attachments": {},
      "cell_type": "markdown",
      "metadata": {
        "id": "Ya6EpZ1Jh9Cj"
      },
      "source": [
        "## Importing the relevant dataset and libraries."
      ]
    },
    {
      "cell_type": "code",
      "execution_count": 1,
      "metadata": {
        "id": "ePru-Cr1zQuA"
      },
      "outputs": [],
      "source": [
        "# Importing Libraries.\n",
        "import string\n",
        "import pandas as pd\n",
        "import numpy as np\n",
        "import tensorflow as tf\n",
        "import matplotlib.pyplot as plt\n",
        "from tensorflow import keras\n",
        "from functools import partial\n",
        "from tensorflow.keras.preprocessing.image import ImageDataGenerator, array_to_img"
      ]
    },
    {
      "cell_type": "code",
      "execution_count": 7,
      "metadata": {
        "id": "Pugj7YlRzb0v"
      },
      "outputs": [],
      "source": [
        "# Importing the modeling dataset.\n",
        "test = pd.read_csv(\"sign_langage_data/sign_mnist_test/sign_mnist_test.csv\")\n",
        "train = pd.read_csv(\"sign_langage_data/sign_mnist_train/sign_mnist_train.csv\")"
      ]
    },
    {
      "cell_type": "code",
      "execution_count": 8,
      "metadata": {
        "colab": {
          "base_uri": "https://localhost:8080/"
        },
        "id": "XJ8UmVOtzept",
        "outputId": "d8fce897-a321-45ab-cf73-178701e00ea0"
      },
      "outputs": [
        {
          "data": {
            "text/plain": [
              "(27455, 785)"
            ]
          },
          "execution_count": 8,
          "metadata": {},
          "output_type": "execute_result"
        }
      ],
      "source": [
        "train.shape"
      ]
    },
    {
      "cell_type": "code",
      "execution_count": 9,
      "metadata": {
        "colab": {
          "base_uri": "https://localhost:8080/"
        },
        "id": "CL7jPLqF1X6e",
        "outputId": "9936c2b7-6115-45f2-8853-5e914995736d"
      },
      "outputs": [
        {
          "data": {
            "text/plain": [
              "(7172, 785)"
            ]
          },
          "execution_count": 9,
          "metadata": {},
          "output_type": "execute_result"
        }
      ],
      "source": [
        "test.shape"
      ]
    },
    {
      "cell_type": "code",
      "execution_count": 10,
      "metadata": {
        "colab": {
          "base_uri": "https://localhost:8080/",
          "height": 300
        },
        "id": "S1fdoQTD1aNh",
        "outputId": "4cb0571a-62a3-48ee-b7a7-8fb7c288c1c0"
      },
      "outputs": [
        {
          "data": {
            "text/html": [
              "<div>\n",
              "<style scoped>\n",
              "    .dataframe tbody tr th:only-of-type {\n",
              "        vertical-align: middle;\n",
              "    }\n",
              "\n",
              "    .dataframe tbody tr th {\n",
              "        vertical-align: top;\n",
              "    }\n",
              "\n",
              "    .dataframe thead th {\n",
              "        text-align: right;\n",
              "    }\n",
              "</style>\n",
              "<table border=\"1\" class=\"dataframe\">\n",
              "  <thead>\n",
              "    <tr style=\"text-align: right;\">\n",
              "      <th></th>\n",
              "      <th>label</th>\n",
              "      <th>pixel1</th>\n",
              "      <th>pixel2</th>\n",
              "      <th>pixel3</th>\n",
              "      <th>pixel4</th>\n",
              "      <th>pixel5</th>\n",
              "      <th>pixel6</th>\n",
              "      <th>pixel7</th>\n",
              "      <th>pixel8</th>\n",
              "      <th>pixel9</th>\n",
              "      <th>...</th>\n",
              "      <th>pixel775</th>\n",
              "      <th>pixel776</th>\n",
              "      <th>pixel777</th>\n",
              "      <th>pixel778</th>\n",
              "      <th>pixel779</th>\n",
              "      <th>pixel780</th>\n",
              "      <th>pixel781</th>\n",
              "      <th>pixel782</th>\n",
              "      <th>pixel783</th>\n",
              "      <th>pixel784</th>\n",
              "    </tr>\n",
              "  </thead>\n",
              "  <tbody>\n",
              "    <tr>\n",
              "      <th>0</th>\n",
              "      <td>3</td>\n",
              "      <td>107</td>\n",
              "      <td>118</td>\n",
              "      <td>127</td>\n",
              "      <td>134</td>\n",
              "      <td>139</td>\n",
              "      <td>143</td>\n",
              "      <td>146</td>\n",
              "      <td>150</td>\n",
              "      <td>153</td>\n",
              "      <td>...</td>\n",
              "      <td>207</td>\n",
              "      <td>207</td>\n",
              "      <td>207</td>\n",
              "      <td>207</td>\n",
              "      <td>206</td>\n",
              "      <td>206</td>\n",
              "      <td>206</td>\n",
              "      <td>204</td>\n",
              "      <td>203</td>\n",
              "      <td>202</td>\n",
              "    </tr>\n",
              "    <tr>\n",
              "      <th>1</th>\n",
              "      <td>6</td>\n",
              "      <td>155</td>\n",
              "      <td>157</td>\n",
              "      <td>156</td>\n",
              "      <td>156</td>\n",
              "      <td>156</td>\n",
              "      <td>157</td>\n",
              "      <td>156</td>\n",
              "      <td>158</td>\n",
              "      <td>158</td>\n",
              "      <td>...</td>\n",
              "      <td>69</td>\n",
              "      <td>149</td>\n",
              "      <td>128</td>\n",
              "      <td>87</td>\n",
              "      <td>94</td>\n",
              "      <td>163</td>\n",
              "      <td>175</td>\n",
              "      <td>103</td>\n",
              "      <td>135</td>\n",
              "      <td>149</td>\n",
              "    </tr>\n",
              "    <tr>\n",
              "      <th>2</th>\n",
              "      <td>2</td>\n",
              "      <td>187</td>\n",
              "      <td>188</td>\n",
              "      <td>188</td>\n",
              "      <td>187</td>\n",
              "      <td>187</td>\n",
              "      <td>186</td>\n",
              "      <td>187</td>\n",
              "      <td>188</td>\n",
              "      <td>187</td>\n",
              "      <td>...</td>\n",
              "      <td>202</td>\n",
              "      <td>201</td>\n",
              "      <td>200</td>\n",
              "      <td>199</td>\n",
              "      <td>198</td>\n",
              "      <td>199</td>\n",
              "      <td>198</td>\n",
              "      <td>195</td>\n",
              "      <td>194</td>\n",
              "      <td>195</td>\n",
              "    </tr>\n",
              "    <tr>\n",
              "      <th>3</th>\n",
              "      <td>2</td>\n",
              "      <td>211</td>\n",
              "      <td>211</td>\n",
              "      <td>212</td>\n",
              "      <td>212</td>\n",
              "      <td>211</td>\n",
              "      <td>210</td>\n",
              "      <td>211</td>\n",
              "      <td>210</td>\n",
              "      <td>210</td>\n",
              "      <td>...</td>\n",
              "      <td>235</td>\n",
              "      <td>234</td>\n",
              "      <td>233</td>\n",
              "      <td>231</td>\n",
              "      <td>230</td>\n",
              "      <td>226</td>\n",
              "      <td>225</td>\n",
              "      <td>222</td>\n",
              "      <td>229</td>\n",
              "      <td>163</td>\n",
              "    </tr>\n",
              "    <tr>\n",
              "      <th>4</th>\n",
              "      <td>13</td>\n",
              "      <td>164</td>\n",
              "      <td>167</td>\n",
              "      <td>170</td>\n",
              "      <td>172</td>\n",
              "      <td>176</td>\n",
              "      <td>179</td>\n",
              "      <td>180</td>\n",
              "      <td>184</td>\n",
              "      <td>185</td>\n",
              "      <td>...</td>\n",
              "      <td>92</td>\n",
              "      <td>105</td>\n",
              "      <td>105</td>\n",
              "      <td>108</td>\n",
              "      <td>133</td>\n",
              "      <td>163</td>\n",
              "      <td>157</td>\n",
              "      <td>163</td>\n",
              "      <td>164</td>\n",
              "      <td>179</td>\n",
              "    </tr>\n",
              "  </tbody>\n",
              "</table>\n",
              "<p>5 rows × 785 columns</p>\n",
              "</div>"
            ],
            "text/plain": [
              "   label  pixel1  pixel2  pixel3  pixel4  pixel5  pixel6  pixel7  pixel8  \\\n",
              "0      3     107     118     127     134     139     143     146     150   \n",
              "1      6     155     157     156     156     156     157     156     158   \n",
              "2      2     187     188     188     187     187     186     187     188   \n",
              "3      2     211     211     212     212     211     210     211     210   \n",
              "4     13     164     167     170     172     176     179     180     184   \n",
              "\n",
              "   pixel9  ...  pixel775  pixel776  pixel777  pixel778  pixel779  pixel780  \\\n",
              "0     153  ...       207       207       207       207       206       206   \n",
              "1     158  ...        69       149       128        87        94       163   \n",
              "2     187  ...       202       201       200       199       198       199   \n",
              "3     210  ...       235       234       233       231       230       226   \n",
              "4     185  ...        92       105       105       108       133       163   \n",
              "\n",
              "   pixel781  pixel782  pixel783  pixel784  \n",
              "0       206       204       203       202  \n",
              "1       175       103       135       149  \n",
              "2       198       195       194       195  \n",
              "3       225       222       229       163  \n",
              "4       157       163       164       179  \n",
              "\n",
              "[5 rows x 785 columns]"
            ]
          },
          "execution_count": 10,
          "metadata": {},
          "output_type": "execute_result"
        }
      ],
      "source": [
        "train.head()"
      ]
    },
    {
      "cell_type": "code",
      "execution_count": 11,
      "metadata": {
        "colab": {
          "base_uri": "https://localhost:8080/",
          "height": 300
        },
        "id": "bbyrukdl1dSt",
        "outputId": "99c32bd5-544d-4907-a002-03c60f49ff84"
      },
      "outputs": [
        {
          "data": {
            "text/html": [
              "<div>\n",
              "<style scoped>\n",
              "    .dataframe tbody tr th:only-of-type {\n",
              "        vertical-align: middle;\n",
              "    }\n",
              "\n",
              "    .dataframe tbody tr th {\n",
              "        vertical-align: top;\n",
              "    }\n",
              "\n",
              "    .dataframe thead th {\n",
              "        text-align: right;\n",
              "    }\n",
              "</style>\n",
              "<table border=\"1\" class=\"dataframe\">\n",
              "  <thead>\n",
              "    <tr style=\"text-align: right;\">\n",
              "      <th></th>\n",
              "      <th>label</th>\n",
              "      <th>pixel1</th>\n",
              "      <th>pixel2</th>\n",
              "      <th>pixel3</th>\n",
              "      <th>pixel4</th>\n",
              "      <th>pixel5</th>\n",
              "      <th>pixel6</th>\n",
              "      <th>pixel7</th>\n",
              "      <th>pixel8</th>\n",
              "      <th>pixel9</th>\n",
              "      <th>...</th>\n",
              "      <th>pixel775</th>\n",
              "      <th>pixel776</th>\n",
              "      <th>pixel777</th>\n",
              "      <th>pixel778</th>\n",
              "      <th>pixel779</th>\n",
              "      <th>pixel780</th>\n",
              "      <th>pixel781</th>\n",
              "      <th>pixel782</th>\n",
              "      <th>pixel783</th>\n",
              "      <th>pixel784</th>\n",
              "    </tr>\n",
              "  </thead>\n",
              "  <tbody>\n",
              "    <tr>\n",
              "      <th>0</th>\n",
              "      <td>6</td>\n",
              "      <td>149</td>\n",
              "      <td>149</td>\n",
              "      <td>150</td>\n",
              "      <td>150</td>\n",
              "      <td>150</td>\n",
              "      <td>151</td>\n",
              "      <td>151</td>\n",
              "      <td>150</td>\n",
              "      <td>151</td>\n",
              "      <td>...</td>\n",
              "      <td>138</td>\n",
              "      <td>148</td>\n",
              "      <td>127</td>\n",
              "      <td>89</td>\n",
              "      <td>82</td>\n",
              "      <td>96</td>\n",
              "      <td>106</td>\n",
              "      <td>112</td>\n",
              "      <td>120</td>\n",
              "      <td>107</td>\n",
              "    </tr>\n",
              "    <tr>\n",
              "      <th>1</th>\n",
              "      <td>5</td>\n",
              "      <td>126</td>\n",
              "      <td>128</td>\n",
              "      <td>131</td>\n",
              "      <td>132</td>\n",
              "      <td>133</td>\n",
              "      <td>134</td>\n",
              "      <td>135</td>\n",
              "      <td>135</td>\n",
              "      <td>136</td>\n",
              "      <td>...</td>\n",
              "      <td>47</td>\n",
              "      <td>104</td>\n",
              "      <td>194</td>\n",
              "      <td>183</td>\n",
              "      <td>186</td>\n",
              "      <td>184</td>\n",
              "      <td>184</td>\n",
              "      <td>184</td>\n",
              "      <td>182</td>\n",
              "      <td>180</td>\n",
              "    </tr>\n",
              "    <tr>\n",
              "      <th>2</th>\n",
              "      <td>10</td>\n",
              "      <td>85</td>\n",
              "      <td>88</td>\n",
              "      <td>92</td>\n",
              "      <td>96</td>\n",
              "      <td>105</td>\n",
              "      <td>123</td>\n",
              "      <td>135</td>\n",
              "      <td>143</td>\n",
              "      <td>147</td>\n",
              "      <td>...</td>\n",
              "      <td>68</td>\n",
              "      <td>166</td>\n",
              "      <td>242</td>\n",
              "      <td>227</td>\n",
              "      <td>230</td>\n",
              "      <td>227</td>\n",
              "      <td>226</td>\n",
              "      <td>225</td>\n",
              "      <td>224</td>\n",
              "      <td>222</td>\n",
              "    </tr>\n",
              "    <tr>\n",
              "      <th>3</th>\n",
              "      <td>0</td>\n",
              "      <td>203</td>\n",
              "      <td>205</td>\n",
              "      <td>207</td>\n",
              "      <td>206</td>\n",
              "      <td>207</td>\n",
              "      <td>209</td>\n",
              "      <td>210</td>\n",
              "      <td>209</td>\n",
              "      <td>210</td>\n",
              "      <td>...</td>\n",
              "      <td>154</td>\n",
              "      <td>248</td>\n",
              "      <td>247</td>\n",
              "      <td>248</td>\n",
              "      <td>253</td>\n",
              "      <td>236</td>\n",
              "      <td>230</td>\n",
              "      <td>240</td>\n",
              "      <td>253</td>\n",
              "      <td>255</td>\n",
              "    </tr>\n",
              "    <tr>\n",
              "      <th>4</th>\n",
              "      <td>3</td>\n",
              "      <td>188</td>\n",
              "      <td>191</td>\n",
              "      <td>193</td>\n",
              "      <td>195</td>\n",
              "      <td>199</td>\n",
              "      <td>201</td>\n",
              "      <td>202</td>\n",
              "      <td>203</td>\n",
              "      <td>203</td>\n",
              "      <td>...</td>\n",
              "      <td>26</td>\n",
              "      <td>40</td>\n",
              "      <td>64</td>\n",
              "      <td>48</td>\n",
              "      <td>29</td>\n",
              "      <td>46</td>\n",
              "      <td>49</td>\n",
              "      <td>46</td>\n",
              "      <td>46</td>\n",
              "      <td>53</td>\n",
              "    </tr>\n",
              "  </tbody>\n",
              "</table>\n",
              "<p>5 rows × 785 columns</p>\n",
              "</div>"
            ],
            "text/plain": [
              "   label  pixel1  pixel2  pixel3  pixel4  pixel5  pixel6  pixel7  pixel8  \\\n",
              "0      6     149     149     150     150     150     151     151     150   \n",
              "1      5     126     128     131     132     133     134     135     135   \n",
              "2     10      85      88      92      96     105     123     135     143   \n",
              "3      0     203     205     207     206     207     209     210     209   \n",
              "4      3     188     191     193     195     199     201     202     203   \n",
              "\n",
              "   pixel9  ...  pixel775  pixel776  pixel777  pixel778  pixel779  pixel780  \\\n",
              "0     151  ...       138       148       127        89        82        96   \n",
              "1     136  ...        47       104       194       183       186       184   \n",
              "2     147  ...        68       166       242       227       230       227   \n",
              "3     210  ...       154       248       247       248       253       236   \n",
              "4     203  ...        26        40        64        48        29        46   \n",
              "\n",
              "   pixel781  pixel782  pixel783  pixel784  \n",
              "0       106       112       120       107  \n",
              "1       184       184       182       180  \n",
              "2       226       225       224       222  \n",
              "3       230       240       253       255  \n",
              "4        49        46        46        53  \n",
              "\n",
              "[5 rows x 785 columns]"
            ]
          },
          "execution_count": 11,
          "metadata": {},
          "output_type": "execute_result"
        }
      ],
      "source": [
        "test.head()"
      ]
    },
    {
      "cell_type": "code",
      "execution_count": 12,
      "metadata": {
        "colab": {
          "base_uri": "https://localhost:8080/"
        },
        "id": "nZynWtOw1g9b",
        "outputId": "593a322a-ba7e-4de9-dc47-2dd0b8ca98c7"
      },
      "outputs": [
        {
          "data": {
            "text/plain": [
              "0     1126\n",
              "1     1010\n",
              "2     1144\n",
              "3     1196\n",
              "4      957\n",
              "5     1204\n",
              "6     1090\n",
              "7     1013\n",
              "8     1162\n",
              "10    1114\n",
              "11    1241\n",
              "12    1055\n",
              "13    1151\n",
              "14    1196\n",
              "15    1088\n",
              "16    1279\n",
              "17    1294\n",
              "18    1199\n",
              "19    1186\n",
              "20    1161\n",
              "21    1082\n",
              "22    1225\n",
              "23    1164\n",
              "24    1118\n",
              "Name: label, dtype: int64"
            ]
          },
          "execution_count": 12,
          "metadata": {},
          "output_type": "execute_result"
        }
      ],
      "source": [
        "# Understanding the distribution of the overall dataset\n",
        "labels = train[\"label\"].value_counts().sort_index(ascending=True)\n",
        "labels "
      ]
    },
    {
      "attachments": {},
      "cell_type": "markdown",
      "metadata": {
        "id": "AuFf1Mu9iD3P"
      },
      "source": [
        "## Splitting the data into train-test splits."
      ]
    },
    {
      "cell_type": "code",
      "execution_count": 13,
      "metadata": {
        "colab": {
          "base_uri": "https://localhost:8080/",
          "height": 300
        },
        "id": "Z8sZuHb52EGd",
        "outputId": "1123a693-d731-45d1-8128-7db8660d50da"
      },
      "outputs": [
        {
          "data": {
            "text/html": [
              "<div>\n",
              "<style scoped>\n",
              "    .dataframe tbody tr th:only-of-type {\n",
              "        vertical-align: middle;\n",
              "    }\n",
              "\n",
              "    .dataframe tbody tr th {\n",
              "        vertical-align: top;\n",
              "    }\n",
              "\n",
              "    .dataframe thead th {\n",
              "        text-align: right;\n",
              "    }\n",
              "</style>\n",
              "<table border=\"1\" class=\"dataframe\">\n",
              "  <thead>\n",
              "    <tr style=\"text-align: right;\">\n",
              "      <th></th>\n",
              "      <th>pixel1</th>\n",
              "      <th>pixel2</th>\n",
              "      <th>pixel3</th>\n",
              "      <th>pixel4</th>\n",
              "      <th>pixel5</th>\n",
              "      <th>pixel6</th>\n",
              "      <th>pixel7</th>\n",
              "      <th>pixel8</th>\n",
              "      <th>pixel9</th>\n",
              "      <th>pixel10</th>\n",
              "      <th>...</th>\n",
              "      <th>pixel775</th>\n",
              "      <th>pixel776</th>\n",
              "      <th>pixel777</th>\n",
              "      <th>pixel778</th>\n",
              "      <th>pixel779</th>\n",
              "      <th>pixel780</th>\n",
              "      <th>pixel781</th>\n",
              "      <th>pixel782</th>\n",
              "      <th>pixel783</th>\n",
              "      <th>pixel784</th>\n",
              "    </tr>\n",
              "  </thead>\n",
              "  <tbody>\n",
              "    <tr>\n",
              "      <th>0</th>\n",
              "      <td>107</td>\n",
              "      <td>118</td>\n",
              "      <td>127</td>\n",
              "      <td>134</td>\n",
              "      <td>139</td>\n",
              "      <td>143</td>\n",
              "      <td>146</td>\n",
              "      <td>150</td>\n",
              "      <td>153</td>\n",
              "      <td>156</td>\n",
              "      <td>...</td>\n",
              "      <td>207</td>\n",
              "      <td>207</td>\n",
              "      <td>207</td>\n",
              "      <td>207</td>\n",
              "      <td>206</td>\n",
              "      <td>206</td>\n",
              "      <td>206</td>\n",
              "      <td>204</td>\n",
              "      <td>203</td>\n",
              "      <td>202</td>\n",
              "    </tr>\n",
              "    <tr>\n",
              "      <th>1</th>\n",
              "      <td>155</td>\n",
              "      <td>157</td>\n",
              "      <td>156</td>\n",
              "      <td>156</td>\n",
              "      <td>156</td>\n",
              "      <td>157</td>\n",
              "      <td>156</td>\n",
              "      <td>158</td>\n",
              "      <td>158</td>\n",
              "      <td>157</td>\n",
              "      <td>...</td>\n",
              "      <td>69</td>\n",
              "      <td>149</td>\n",
              "      <td>128</td>\n",
              "      <td>87</td>\n",
              "      <td>94</td>\n",
              "      <td>163</td>\n",
              "      <td>175</td>\n",
              "      <td>103</td>\n",
              "      <td>135</td>\n",
              "      <td>149</td>\n",
              "    </tr>\n",
              "    <tr>\n",
              "      <th>2</th>\n",
              "      <td>187</td>\n",
              "      <td>188</td>\n",
              "      <td>188</td>\n",
              "      <td>187</td>\n",
              "      <td>187</td>\n",
              "      <td>186</td>\n",
              "      <td>187</td>\n",
              "      <td>188</td>\n",
              "      <td>187</td>\n",
              "      <td>186</td>\n",
              "      <td>...</td>\n",
              "      <td>202</td>\n",
              "      <td>201</td>\n",
              "      <td>200</td>\n",
              "      <td>199</td>\n",
              "      <td>198</td>\n",
              "      <td>199</td>\n",
              "      <td>198</td>\n",
              "      <td>195</td>\n",
              "      <td>194</td>\n",
              "      <td>195</td>\n",
              "    </tr>\n",
              "    <tr>\n",
              "      <th>3</th>\n",
              "      <td>211</td>\n",
              "      <td>211</td>\n",
              "      <td>212</td>\n",
              "      <td>212</td>\n",
              "      <td>211</td>\n",
              "      <td>210</td>\n",
              "      <td>211</td>\n",
              "      <td>210</td>\n",
              "      <td>210</td>\n",
              "      <td>211</td>\n",
              "      <td>...</td>\n",
              "      <td>235</td>\n",
              "      <td>234</td>\n",
              "      <td>233</td>\n",
              "      <td>231</td>\n",
              "      <td>230</td>\n",
              "      <td>226</td>\n",
              "      <td>225</td>\n",
              "      <td>222</td>\n",
              "      <td>229</td>\n",
              "      <td>163</td>\n",
              "    </tr>\n",
              "    <tr>\n",
              "      <th>4</th>\n",
              "      <td>164</td>\n",
              "      <td>167</td>\n",
              "      <td>170</td>\n",
              "      <td>172</td>\n",
              "      <td>176</td>\n",
              "      <td>179</td>\n",
              "      <td>180</td>\n",
              "      <td>184</td>\n",
              "      <td>185</td>\n",
              "      <td>186</td>\n",
              "      <td>...</td>\n",
              "      <td>92</td>\n",
              "      <td>105</td>\n",
              "      <td>105</td>\n",
              "      <td>108</td>\n",
              "      <td>133</td>\n",
              "      <td>163</td>\n",
              "      <td>157</td>\n",
              "      <td>163</td>\n",
              "      <td>164</td>\n",
              "      <td>179</td>\n",
              "    </tr>\n",
              "  </tbody>\n",
              "</table>\n",
              "<p>5 rows × 784 columns</p>\n",
              "</div>"
            ],
            "text/plain": [
              "   pixel1  pixel2  pixel3  pixel4  pixel5  pixel6  pixel7  pixel8  pixel9  \\\n",
              "0     107     118     127     134     139     143     146     150     153   \n",
              "1     155     157     156     156     156     157     156     158     158   \n",
              "2     187     188     188     187     187     186     187     188     187   \n",
              "3     211     211     212     212     211     210     211     210     210   \n",
              "4     164     167     170     172     176     179     180     184     185   \n",
              "\n",
              "   pixel10  ...  pixel775  pixel776  pixel777  pixel778  pixel779  pixel780  \\\n",
              "0      156  ...       207       207       207       207       206       206   \n",
              "1      157  ...        69       149       128        87        94       163   \n",
              "2      186  ...       202       201       200       199       198       199   \n",
              "3      211  ...       235       234       233       231       230       226   \n",
              "4      186  ...        92       105       105       108       133       163   \n",
              "\n",
              "   pixel781  pixel782  pixel783  pixel784  \n",
              "0       206       204       203       202  \n",
              "1       175       103       135       149  \n",
              "2       198       195       194       195  \n",
              "3       225       222       229       163  \n",
              "4       157       163       164       179  \n",
              "\n",
              "[5 rows x 784 columns]"
            ]
          },
          "execution_count": 13,
          "metadata": {},
          "output_type": "execute_result"
        }
      ],
      "source": [
        "# Seperating testing and training data. \n",
        "train_x = train.drop(labels = \"label\", axis = 1)\n",
        "train_y = train[\"label\"]\n",
        "test_x = test.drop(labels = \"label\", axis = 1)\n",
        "test_y = test[\"label\"]\n",
        "train_x.head()"
      ]
    },
    {
      "attachments": {},
      "cell_type": "markdown",
      "metadata": {
        "id": "bHr2--wIiKg8"
      },
      "source": [
        "## Data Preprocessing and Visualization."
      ]
    },
    {
      "cell_type": "code",
      "execution_count": 15,
      "metadata": {
        "id": "b3ePX8TZ2UHS"
      },
      "outputs": [],
      "source": [
        "# Storing test and training classes before transforming the data. \n",
        "test_classes= test_y\n",
        "train_classes = train_y"
      ]
    },
    {
      "cell_type": "code",
      "execution_count": 16,
      "metadata": {
        "id": "hY71-pWz21_t"
      },
      "outputs": [],
      "source": [
        "# Converting to numpy array.\n",
        "train_x = train_x.to_numpy()\n",
        "test_x = test_x.to_numpy()"
      ]
    },
    {
      "cell_type": "code",
      "execution_count": 17,
      "metadata": {
        "colab": {
          "base_uri": "https://localhost:8080/"
        },
        "id": "0GLrnbpn8vww",
        "outputId": "5a14fc81-967b-4439-d871-1f69620b3e7c"
      },
      "outputs": [
        {
          "data": {
            "text/plain": [
              "(27455, 784)"
            ]
          },
          "execution_count": 17,
          "metadata": {},
          "output_type": "execute_result"
        }
      ],
      "source": [
        "train_x.shape"
      ]
    },
    {
      "cell_type": "code",
      "execution_count": 18,
      "metadata": {
        "colab": {
          "base_uri": "https://localhost:8080/"
        },
        "id": "VTdRiTOn8yK-",
        "outputId": "56e29a5e-e1d6-4cc2-ccb0-0597863fc53d"
      },
      "outputs": [
        {
          "data": {
            "text/plain": [
              "(7172, 784)"
            ]
          },
          "execution_count": 18,
          "metadata": {},
          "output_type": "execute_result"
        }
      ],
      "source": [
        "test_x.shape"
      ]
    },
    {
      "cell_type": "code",
      "execution_count": 19,
      "metadata": {
        "id": "twfsAH067-VT"
      },
      "outputs": [],
      "source": [
        "# Reshaping the data for visualizations.\n",
        "train_x = train_x.reshape(-1,28,28)\n",
        "test_x = test_x.reshape(-1,28,28)"
      ]
    },
    {
      "cell_type": "code",
      "execution_count": 20,
      "metadata": {
        "colab": {
          "base_uri": "https://localhost:8080/"
        },
        "id": "FdEdWhP23C3i",
        "outputId": "0448e7a5-1f1b-4498-c608-89ebdf5c1886"
      },
      "outputs": [
        {
          "data": {
            "text/plain": [
              "(27455, 28, 28)"
            ]
          },
          "execution_count": 20,
          "metadata": {},
          "output_type": "execute_result"
        }
      ],
      "source": [
        "train_x.shape"
      ]
    },
    {
      "cell_type": "code",
      "execution_count": 21,
      "metadata": {
        "colab": {
          "base_uri": "https://localhost:8080/"
        },
        "id": "W6MKxGcb3jB4",
        "outputId": "29ac6f10-737c-43aa-d300-080adc51aca2"
      },
      "outputs": [
        {
          "data": {
            "text/plain": [
              "(7172, 28, 28)"
            ]
          },
          "execution_count": 21,
          "metadata": {},
          "output_type": "execute_result"
        }
      ],
      "source": [
        "test_x.shape"
      ]
    },
    {
      "cell_type": "code",
      "execution_count": 22,
      "metadata": {
        "colab": {
          "base_uri": "https://localhost:8080/",
          "height": 764
        },
        "id": "g8OQn0ge3knn",
        "outputId": "c8265ee5-45bd-4941-a422-2477a1bf6da6"
      },
      "outputs": [
        {
          "data": {
            "image/png": "[encoded data removed]",
            "text/plain": [
              "<Figure size 1600x1500 with 30 Axes>"
            ]
          },
          "metadata": {},
          "output_type": "display_data"
        }
      ],
      "source": [
        "# Ploting a sample of 30 images from the training set.\n",
        "def plot_categories(training_images, training_labels):\n",
        "    fig, axes = plt.subplots(3, 10, figsize=(16, 15))\n",
        "    axes = axes.flatten()\n",
        "    letters = list(string.ascii_lowercase)\n",
        "\n",
        "    for k in range(30):\n",
        "        img = training_images[k]\n",
        "        img = np.expand_dims(img, axis=-1)\n",
        "        img = array_to_img(img)\n",
        "        ax = axes[k]\n",
        "        ax.imshow(img, cmap=\"Greys_r\")\n",
        "        ax.set_title(f\"{letters[int(training_labels[k])]}\")\n",
        "        ax.set_axis_off()\n",
        "\n",
        "    plt.tight_layout()\n",
        "    plt.show()\n",
        "\n",
        "plot_categories(train_x, train_y)"
      ]
    },
    {
      "cell_type": "code",
      "execution_count": 23,
      "metadata": {
        "colab": {
          "base_uri": "https://localhost:8080/"
        },
        "id": "WxAT4B9r88hL",
        "outputId": "228054b7-0fb0-42a9-d786-d2818f7e43fb"
      },
      "outputs": [
        {
          "data": {
            "text/plain": [
              "(27455, 28, 28)"
            ]
          },
          "execution_count": 23,
          "metadata": {},
          "output_type": "execute_result"
        }
      ],
      "source": [
        "train_x.shape"
      ]
    },
    {
      "cell_type": "code",
      "execution_count": 24,
      "metadata": {
        "colab": {
          "base_uri": "https://localhost:8080/"
        },
        "id": "rIerIetN9D20",
        "outputId": "7281fa52-6ac7-468b-9784-90da9054771f"
      },
      "outputs": [
        {
          "data": {
            "text/plain": [
              "(27455,)"
            ]
          },
          "execution_count": 24,
          "metadata": {},
          "output_type": "execute_result"
        }
      ],
      "source": [
        "train_y.shape"
      ]
    },
    {
      "cell_type": "code",
      "execution_count": 25,
      "metadata": {
        "colab": {
          "base_uri": "https://localhost:8080/"
        },
        "id": "_FSnWTuE8-16",
        "outputId": "26835a52-0d37-46de-e40e-1e8bce676799"
      },
      "outputs": [
        {
          "data": {
            "text/plain": [
              "(7172, 28, 28)"
            ]
          },
          "execution_count": 25,
          "metadata": {},
          "output_type": "execute_result"
        }
      ],
      "source": [
        "test_x.shape"
      ]
    },
    {
      "attachments": {},
      "cell_type": "markdown",
      "metadata": {
        "id": "oOJs0nP9iZkt"
      },
      "source": [
        "## Developing a Convolution Neural Network."
      ]
    },
    {
      "cell_type": "code",
      "execution_count": 26,
      "metadata": {
        "id": "KUMyZ_M99AYz"
      },
      "outputs": [],
      "source": [
        "# Creating a Convolution Neural Network (CNN).\n",
        "def create_model():\n",
        "    model = tf.keras.models.Sequential([\n",
        "    tf.keras.layers.Conv2D(32, (3,3), activation='relu', input_shape=(28, 28, 1)),\n",
        "    tf.keras.layers.MaxPooling2D(2,2),\n",
        "    tf.keras.layers.Conv2D(32, (3,3), activation='relu'),\n",
        "    tf.keras.layers.MaxPooling2D(2,2),\n",
        "    tf.keras.layers.Flatten(),\n",
        "    tf.keras.layers.Dense(512, activation='relu'),\n",
        "    tf.keras.layers.Dense(26, activation='softmax')])\n",
        "  \n",
        "\n",
        "    model.compile(\n",
        "    optimizer='adam',\n",
        "    loss='sparse_categorical_crossentropy',\n",
        "    metrics=['accuracy'])\n",
        "   \n",
        "  \n",
        "    return model"
      ]
    },
    {
      "cell_type": "code",
      "execution_count": 27,
      "metadata": {
        "id": "Vxc_3iQA9QaT"
      },
      "outputs": [],
      "source": [
        "model = create_model()"
      ]
    },
    {
      "cell_type": "code",
      "execution_count": 28,
      "metadata": {
        "colab": {
          "base_uri": "https://localhost:8080/"
        },
        "id": "4OHm72Sy9Sq3",
        "outputId": "278770d8-3699-4ee8-80fd-c3b791f2959f"
      },
      "outputs": [
        {
          "name": "stdout",
          "output_type": "stream",
          "text": [
            "Epoch 1/100\n",
            "858/858 [==============================] - 6s 6ms/step - loss: 0.6040 - accuracy: 0.9009 - val_loss: 0.6373 - val_accuracy: 0.8618\n",
            "Epoch 2/100\n",
            "858/858 [==============================] - 6s 7ms/step - loss: 0.0257 - accuracy: 0.9930 - val_loss: 0.6713 - val_accuracy: 0.8811\n",
            "Epoch 3/100\n",
            "858/858 [==============================] - 6s 7ms/step - loss: 1.5834e-04 - accuracy: 1.0000 - val_loss: 0.6785 - val_accuracy: 0.8815\n",
            "Epoch 4/100\n",
            "858/858 [==============================] - 6s 7ms/step - loss: 4.3455e-05 - accuracy: 1.0000 - val_loss: 0.6993 - val_accuracy: 0.8819\n",
            "Epoch 5/100\n",
            "858/858 [==============================] - 6s 7ms/step - loss: 2.4113e-05 - accuracy: 1.0000 - val_loss: 0.7006 - val_accuracy: 0.8833\n",
            "Epoch 6/100\n",
            "858/858 [==============================] - 6s 7ms/step - loss: 1.4724e-05 - accuracy: 1.0000 - val_loss: 0.7055 - val_accuracy: 0.8854\n",
            "Epoch 7/100\n",
            "858/858 [==============================] - 6s 7ms/step - loss: 9.5626e-06 - accuracy: 1.0000 - val_loss: 0.7165 - val_accuracy: 0.8866\n",
            "Epoch 8/100\n",
            "858/858 [==============================] - 7s 8ms/step - loss: 6.1589e-06 - accuracy: 1.0000 - val_loss: 0.7325 - val_accuracy: 0.8908\n",
            "Epoch 9/100\n",
            "858/858 [==============================] - 7s 8ms/step - loss: 4.0144e-06 - accuracy: 1.0000 - val_loss: 0.7480 - val_accuracy: 0.8917\n",
            "Epoch 10/100\n",
            "858/858 [==============================] - 7s 8ms/step - loss: 2.5810e-06 - accuracy: 1.0000 - val_loss: 0.7614 - val_accuracy: 0.8914\n",
            "Epoch 11/100\n",
            "858/858 [==============================] - 7s 8ms/step - loss: 1.6725e-06 - accuracy: 1.0000 - val_loss: 0.7648 - val_accuracy: 0.8939\n",
            "Epoch 12/100\n",
            "858/858 [==============================] - 7s 8ms/step - loss: 1.0498e-06 - accuracy: 1.0000 - val_loss: 0.7734 - val_accuracy: 0.8926\n",
            "Epoch 13/100\n",
            "858/858 [==============================] - 7s 8ms/step - loss: 6.7346e-07 - accuracy: 1.0000 - val_loss: 0.7886 - val_accuracy: 0.8907\n",
            "Epoch 14/100\n",
            "858/858 [==============================] - 6s 8ms/step - loss: 4.2705e-07 - accuracy: 1.0000 - val_loss: 0.8125 - val_accuracy: 0.8943\n",
            "Epoch 15/100\n",
            "858/858 [==============================] - 6s 8ms/step - loss: 2.8410e-07 - accuracy: 1.0000 - val_loss: 0.8230 - val_accuracy: 0.8931\n",
            "Epoch 16/100\n",
            "858/858 [==============================] - 7s 8ms/step - loss: 1.8270e-07 - accuracy: 1.0000 - val_loss: 0.8381 - val_accuracy: 0.8940\n",
            "Epoch 17/100\n",
            "858/858 [==============================] - 6s 7ms/step - loss: 1.2667e-07 - accuracy: 1.0000 - val_loss: 0.8391 - val_accuracy: 0.8936\n",
            "Epoch 18/100\n",
            "858/858 [==============================] - 7s 8ms/step - loss: 8.1438e-08 - accuracy: 1.0000 - val_loss: 0.8793 - val_accuracy: 0.8921\n",
            "Epoch 19/100\n",
            "858/858 [==============================] - 7s 8ms/step - loss: 5.2317e-08 - accuracy: 1.0000 - val_loss: 0.8728 - val_accuracy: 0.8885\n",
            "Epoch 20/100\n",
            "858/858 [==============================] - 7s 8ms/step - loss: 3.5678e-08 - accuracy: 1.0000 - val_loss: 0.8959 - val_accuracy: 0.8933\n",
            "Epoch 21/100\n",
            "858/858 [==============================] - 7s 8ms/step - loss: 2.4059e-08 - accuracy: 1.0000 - val_loss: 0.9104 - val_accuracy: 0.8886\n",
            "Epoch 22/100\n",
            "858/858 [==============================] - 7s 8ms/step - loss: 1.6513e-08 - accuracy: 1.0000 - val_loss: 0.9122 - val_accuracy: 0.8926\n",
            "Epoch 23/100\n",
            "858/858 [==============================] - 6s 8ms/step - loss: 1.1146e-08 - accuracy: 1.0000 - val_loss: 0.9184 - val_accuracy: 0.8945\n",
            "Epoch 24/100\n",
            "858/858 [==============================] - 6s 7ms/step - loss: 0.2650 - accuracy: 0.9281 - val_loss: 0.8396 - val_accuracy: 0.8028\n",
            "Epoch 25/100\n",
            "858/858 [==============================] - 6s 8ms/step - loss: 0.0177 - accuracy: 0.9956 - val_loss: 0.9036 - val_accuracy: 0.8387\n",
            "Epoch 26/100\n",
            "858/858 [==============================] - 7s 8ms/step - loss: 0.0263 - accuracy: 0.9925 - val_loss: 1.1396 - val_accuracy: 0.7988\n",
            "Epoch 27/100\n",
            "858/858 [==============================] - 7s 8ms/step - loss: 0.0042 - accuracy: 0.9991 - val_loss: 0.9207 - val_accuracy: 0.8484\n",
            "Epoch 28/100\n",
            "858/858 [==============================] - 7s 8ms/step - loss: 1.1497e-04 - accuracy: 1.0000 - val_loss: 0.9903 - val_accuracy: 0.8489\n",
            "Epoch 29/100\n",
            "858/858 [==============================] - 6s 8ms/step - loss: 5.7523e-05 - accuracy: 1.0000 - val_loss: 1.0142 - val_accuracy: 0.8512\n",
            "Epoch 30/100\n",
            "858/858 [==============================] - 7s 8ms/step - loss: 3.3947e-05 - accuracy: 1.0000 - val_loss: 1.0323 - val_accuracy: 0.8501\n",
            "Epoch 31/100\n",
            "858/858 [==============================] - 7s 8ms/step - loss: 2.1446e-05 - accuracy: 1.0000 - val_loss: 1.0611 - val_accuracy: 0.8519\n",
            "Epoch 32/100\n",
            "858/858 [==============================] - 7s 8ms/step - loss: 1.3455e-05 - accuracy: 1.0000 - val_loss: 1.0730 - val_accuracy: 0.8519\n",
            "Epoch 33/100\n",
            "858/858 [==============================] - 7s 8ms/step - loss: 8.5359e-06 - accuracy: 1.0000 - val_loss: 1.1162 - val_accuracy: 0.8498\n",
            "Epoch 34/100\n",
            "858/858 [==============================] - 7s 8ms/step - loss: 5.4302e-06 - accuracy: 1.0000 - val_loss: 1.1297 - val_accuracy: 0.8529\n",
            "Epoch 35/100\n",
            "858/858 [==============================] - 7s 8ms/step - loss: 3.4393e-06 - accuracy: 1.0000 - val_loss: 1.1597 - val_accuracy: 0.8525\n",
            "Epoch 36/100\n",
            "858/858 [==============================] - 7s 8ms/step - loss: 2.1600e-06 - accuracy: 1.0000 - val_loss: 1.1957 - val_accuracy: 0.8532\n",
            "Epoch 37/100\n",
            "858/858 [==============================] - 7s 8ms/step - loss: 1.3735e-06 - accuracy: 1.0000 - val_loss: 1.1923 - val_accuracy: 0.8553\n",
            "Epoch 38/100\n",
            "858/858 [==============================] - 6s 7ms/step - loss: 8.4784e-07 - accuracy: 1.0000 - val_loss: 1.2048 - val_accuracy: 0.8576\n",
            "Epoch 39/100\n",
            "858/858 [==============================] - 6s 7ms/step - loss: 5.4717e-07 - accuracy: 1.0000 - val_loss: 1.2385 - val_accuracy: 0.8590\n",
            "Epoch 40/100\n",
            "858/858 [==============================] - 7s 8ms/step - loss: 3.3904e-07 - accuracy: 1.0000 - val_loss: 1.2526 - val_accuracy: 0.8615\n",
            "Epoch 41/100\n",
            "858/858 [==============================] - 6s 7ms/step - loss: 2.0506e-07 - accuracy: 1.0000 - val_loss: 1.2656 - val_accuracy: 0.8645\n",
            "Epoch 42/100\n",
            "858/858 [==============================] - 6s 7ms/step - loss: 1.2818e-07 - accuracy: 1.0000 - val_loss: 1.2909 - val_accuracy: 0.8627\n",
            "Epoch 43/100\n",
            "858/858 [==============================] - 7s 8ms/step - loss: 8.0422e-08 - accuracy: 1.0000 - val_loss: 1.3183 - val_accuracy: 0.8602\n",
            "Epoch 44/100\n",
            "858/858 [==============================] - 7s 8ms/step - loss: 5.1201e-08 - accuracy: 1.0000 - val_loss: 1.3343 - val_accuracy: 0.8648\n",
            "Epoch 45/100\n",
            "858/858 [==============================] - 7s 8ms/step - loss: 3.1028e-08 - accuracy: 1.0000 - val_loss: 1.3377 - val_accuracy: 0.8634\n",
            "Epoch 46/100\n",
            "858/858 [==============================] - 6s 8ms/step - loss: 2.0477e-08 - accuracy: 1.0000 - val_loss: 1.3630 - val_accuracy: 0.8688\n",
            "Epoch 47/100\n",
            "858/858 [==============================] - 6s 7ms/step - loss: 1.2874e-08 - accuracy: 1.0000 - val_loss: 1.3657 - val_accuracy: 0.8705\n",
            "Epoch 48/100\n",
            "858/858 [==============================] - 7s 8ms/step - loss: 8.3670e-09 - accuracy: 1.0000 - val_loss: 1.3993 - val_accuracy: 0.8657\n",
            "Epoch 49/100\n",
            "858/858 [==============================] - 7s 8ms/step - loss: 5.7010e-09 - accuracy: 1.0000 - val_loss: 1.4318 - val_accuracy: 0.8661\n",
            "Epoch 50/100\n",
            "858/858 [==============================] - 7s 8ms/step - loss: 3.8861e-09 - accuracy: 1.0000 - val_loss: 1.4257 - val_accuracy: 0.8681\n",
            "Epoch 51/100\n",
            "858/858 [==============================] - 7s 8ms/step - loss: 2.5010e-09 - accuracy: 1.0000 - val_loss: 1.4472 - val_accuracy: 0.8685\n",
            "Epoch 52/100\n",
            "858/858 [==============================] - 6s 8ms/step - loss: 1.6500e-09 - accuracy: 1.0000 - val_loss: 1.4328 - val_accuracy: 0.8716\n",
            "Epoch 53/100\n",
            "858/858 [==============================] - 6s 7ms/step - loss: 1.4459e-09 - accuracy: 1.0000 - val_loss: 1.4572 - val_accuracy: 0.8728\n",
            "Epoch 54/100\n",
            "858/858 [==============================] - 6s 7ms/step - loss: 0.1008 - accuracy: 0.9870 - val_loss: 2.1167 - val_accuracy: 0.7224\n",
            "Epoch 55/100\n",
            "858/858 [==============================] - 6s 7ms/step - loss: 0.0227 - accuracy: 0.9948 - val_loss: 1.2171 - val_accuracy: 0.8405\n",
            "Epoch 56/100\n",
            "858/858 [==============================] - 6s 7ms/step - loss: 1.3235e-04 - accuracy: 1.0000 - val_loss: 1.2270 - val_accuracy: 0.8441\n",
            "Epoch 57/100\n",
            "858/858 [==============================] - 6s 7ms/step - loss: 6.7614e-05 - accuracy: 1.0000 - val_loss: 1.2468 - val_accuracy: 0.8498\n",
            "Epoch 58/100\n",
            "858/858 [==============================] - 6s 7ms/step - loss: 3.9196e-05 - accuracy: 1.0000 - val_loss: 1.2424 - val_accuracy: 0.8528\n",
            "Epoch 59/100\n",
            "858/858 [==============================] - 6s 7ms/step - loss: 2.3881e-05 - accuracy: 1.0000 - val_loss: 1.2514 - val_accuracy: 0.8546\n",
            "Epoch 60/100\n",
            "858/858 [==============================] - 6s 7ms/step - loss: 1.4904e-05 - accuracy: 1.0000 - val_loss: 1.2620 - val_accuracy: 0.8540\n",
            "Epoch 61/100\n",
            "858/858 [==============================] - 7s 8ms/step - loss: 9.3940e-06 - accuracy: 1.0000 - val_loss: 1.2618 - val_accuracy: 0.8568\n",
            "Epoch 62/100\n",
            "858/858 [==============================] - 6s 8ms/step - loss: 5.9744e-06 - accuracy: 1.0000 - val_loss: 1.2768 - val_accuracy: 0.8582\n",
            "Epoch 63/100\n",
            "858/858 [==============================] - 6s 7ms/step - loss: 3.7113e-06 - accuracy: 1.0000 - val_loss: 1.2781 - val_accuracy: 0.8606\n",
            "Epoch 64/100\n",
            "858/858 [==============================] - 6s 7ms/step - loss: 2.3454e-06 - accuracy: 1.0000 - val_loss: 1.2934 - val_accuracy: 0.8600\n",
            "Epoch 65/100\n",
            "858/858 [==============================] - 6s 7ms/step - loss: 1.5069e-06 - accuracy: 1.0000 - val_loss: 1.3264 - val_accuracy: 0.8618\n",
            "Epoch 66/100\n",
            "858/858 [==============================] - 7s 8ms/step - loss: 9.4738e-07 - accuracy: 1.0000 - val_loss: 1.3264 - val_accuracy: 0.8659\n",
            "Epoch 67/100\n",
            "858/858 [==============================] - 6s 7ms/step - loss: 5.9726e-07 - accuracy: 1.0000 - val_loss: 1.3556 - val_accuracy: 0.8641\n",
            "Epoch 68/100\n",
            "858/858 [==============================] - 6s 7ms/step - loss: 3.9057e-07 - accuracy: 1.0000 - val_loss: 1.3726 - val_accuracy: 0.8660\n",
            "Epoch 69/100\n",
            "858/858 [==============================] - 6s 7ms/step - loss: 2.3933e-07 - accuracy: 1.0000 - val_loss: 1.3819 - val_accuracy: 0.8666\n",
            "Epoch 70/100\n",
            "858/858 [==============================] - 6s 7ms/step - loss: 1.5111e-07 - accuracy: 1.0000 - val_loss: 1.3940 - val_accuracy: 0.8688\n",
            "Epoch 71/100\n",
            "858/858 [==============================] - 6s 7ms/step - loss: 9.7855e-08 - accuracy: 1.0000 - val_loss: 1.4061 - val_accuracy: 0.8705\n",
            "Epoch 72/100\n",
            "858/858 [==============================] - 6s 8ms/step - loss: 6.1513e-08 - accuracy: 1.0000 - val_loss: 1.4219 - val_accuracy: 0.8713\n",
            "Epoch 73/100\n",
            "858/858 [==============================] - 6s 7ms/step - loss: 3.8739e-08 - accuracy: 1.0000 - val_loss: 1.4437 - val_accuracy: 0.8723\n",
            "Epoch 74/100\n",
            "858/858 [==============================] - 6s 7ms/step - loss: 2.5127e-08 - accuracy: 1.0000 - val_loss: 1.4616 - val_accuracy: 0.8738\n",
            "Epoch 75/100\n",
            "858/858 [==============================] - 6s 8ms/step - loss: 1.6508e-08 - accuracy: 1.0000 - val_loss: 1.4809 - val_accuracy: 0.8734\n",
            "Epoch 76/100\n",
            "858/858 [==============================] - 6s 7ms/step - loss: 1.0403e-08 - accuracy: 1.0000 - val_loss: 1.4941 - val_accuracy: 0.8758\n",
            "Epoch 77/100\n",
            "858/858 [==============================] - 6s 7ms/step - loss: 6.9515e-09 - accuracy: 1.0000 - val_loss: 1.5162 - val_accuracy: 0.8762\n",
            "Epoch 78/100\n",
            "858/858 [==============================] - 6s 7ms/step - loss: 4.4158e-09 - accuracy: 1.0000 - val_loss: 1.5238 - val_accuracy: 0.8766\n",
            "Epoch 79/100\n",
            "858/858 [==============================] - 6s 7ms/step - loss: 2.9743e-09 - accuracy: 1.0000 - val_loss: 1.5315 - val_accuracy: 0.8774\n",
            "Epoch 80/100\n",
            "858/858 [==============================] - 6s 7ms/step - loss: 1.9843e-09 - accuracy: 1.0000 - val_loss: 1.5398 - val_accuracy: 0.8769\n",
            "Epoch 81/100\n",
            "858/858 [==============================] - 6s 7ms/step - loss: 1.3417e-09 - accuracy: 1.0000 - val_loss: 1.5544 - val_accuracy: 0.8773\n",
            "Epoch 82/100\n",
            "858/858 [==============================] - 6s 7ms/step - loss: 1.0247e-09 - accuracy: 1.0000 - val_loss: 1.5571 - val_accuracy: 0.8777\n",
            "Epoch 83/100\n",
            "858/858 [==============================] - 7s 8ms/step - loss: 8.3800e-10 - accuracy: 1.0000 - val_loss: 1.5772 - val_accuracy: 0.8773\n",
            "Epoch 84/100\n",
            "858/858 [==============================] - 6s 7ms/step - loss: 5.1670e-10 - accuracy: 1.0000 - val_loss: 1.6308 - val_accuracy: 0.8747\n",
            "Epoch 85/100\n",
            "858/858 [==============================] - 6s 7ms/step - loss: 4.1683e-10 - accuracy: 1.0000 - val_loss: 1.6229 - val_accuracy: 0.8770\n",
            "Epoch 86/100\n",
            "858/858 [==============================] - 6s 7ms/step - loss: 0.0722 - accuracy: 0.9890 - val_loss: 1.6154 - val_accuracy: 0.7740\n",
            "Epoch 87/100\n",
            "858/858 [==============================] - 6s 7ms/step - loss: 0.0118 - accuracy: 0.9964 - val_loss: 1.2194 - val_accuracy: 0.8561\n",
            "Epoch 88/100\n",
            "858/858 [==============================] - 6s 7ms/step - loss: 6.4066e-05 - accuracy: 1.0000 - val_loss: 1.2370 - val_accuracy: 0.8635\n",
            "Epoch 89/100\n",
            "858/858 [==============================] - 6s 7ms/step - loss: 3.1539e-05 - accuracy: 1.0000 - val_loss: 1.2704 - val_accuracy: 0.8624\n",
            "Epoch 90/100\n",
            "858/858 [==============================] - 6s 7ms/step - loss: 2.0845e-05 - accuracy: 1.0000 - val_loss: 1.3059 - val_accuracy: 0.8602\n",
            "Epoch 91/100\n",
            "858/858 [==============================] - 6s 7ms/step - loss: 1.3906e-05 - accuracy: 1.0000 - val_loss: 1.3222 - val_accuracy: 0.8602\n",
            "Epoch 92/100\n",
            "858/858 [==============================] - 7s 8ms/step - loss: 8.8961e-06 - accuracy: 1.0000 - val_loss: 1.3182 - val_accuracy: 0.8595\n",
            "Epoch 93/100\n",
            "858/858 [==============================] - 6s 8ms/step - loss: 6.0092e-06 - accuracy: 1.0000 - val_loss: 1.3423 - val_accuracy: 0.8583\n",
            "Epoch 94/100\n",
            "858/858 [==============================] - 7s 8ms/step - loss: 3.9103e-06 - accuracy: 1.0000 - val_loss: 1.3803 - val_accuracy: 0.8560\n",
            "Epoch 95/100\n",
            "858/858 [==============================] - 6s 7ms/step - loss: 2.5516e-06 - accuracy: 1.0000 - val_loss: 1.4015 - val_accuracy: 0.8562\n",
            "Epoch 96/100\n",
            "858/858 [==============================] - 7s 8ms/step - loss: 1.6876e-06 - accuracy: 1.0000 - val_loss: 1.4380 - val_accuracy: 0.8572\n",
            "Epoch 97/100\n",
            "858/858 [==============================] - 7s 8ms/step - loss: 1.1077e-06 - accuracy: 1.0000 - val_loss: 1.4525 - val_accuracy: 0.8588\n",
            "Epoch 98/100\n",
            "858/858 [==============================] - 6s 7ms/step - loss: 7.0777e-07 - accuracy: 1.0000 - val_loss: 1.4765 - val_accuracy: 0.8602\n",
            "Epoch 99/100\n",
            "858/858 [==============================] - 6s 7ms/step - loss: 4.6758e-07 - accuracy: 1.0000 - val_loss: 1.5061 - val_accuracy: 0.8567\n",
            "Epoch 100/100\n",
            "858/858 [==============================] - 6s 7ms/step - loss: 3.0419e-07 - accuracy: 1.0000 - val_loss: 1.5366 - val_accuracy: 0.8589\n"
          ]
        }
      ],
      "source": [
        "history = model.fit(train_x, train_y, epochs=100, validation_data=(test_x, test_y))"
      ]
    },
    {
      "cell_type": "code",
      "execution_count": 29,
      "metadata": {
        "colab": {
          "base_uri": "https://localhost:8080/",
          "height": 544
        },
        "id": "u_Fac755-h8v",
        "outputId": "3134c2bf-cd83-46aa-880d-e3099b7834be"
      },
      "outputs": [
        {
          "data": {
            "image/png": "[encoded data removed]",
            "text/plain": [
              "<Figure size 640x480 with 1 Axes>"
            ]
          },
          "metadata": {},
          "output_type": "display_data"
        },
        {
          "data": {
            "image/png": "[encoded data removed]",
            "text/plain": [
              "<Figure size 640x480 with 1 Axes>"
            ]
          },
          "metadata": {},
          "output_type": "display_data"
        }
      ],
      "source": [
        "# Plotting model performance. \n",
        "acc = history.history['accuracy']\n",
        "val_acc = history.history['val_accuracy']\n",
        "loss = history.history['loss']\n",
        "val_loss = history.history['val_loss']\n",
        "\n",
        "epochs = range(len(acc))\n",
        "\n",
        "plt.plot(epochs, acc, 'r', label='Training accuracy')\n",
        "plt.plot(epochs, val_acc, 'b', label='Validation accuracy')\n",
        "plt.title('Training and validation accuracy')\n",
        "plt.legend()\n",
        "plt.figure()\n",
        "\n",
        "plt.plot(epochs, loss, 'r', label='Training Loss')\n",
        "plt.plot(epochs, val_loss, 'b', label='Validation Loss')\n",
        "plt.title('Training and validation loss')\n",
        "plt.legend()\n",
        "\n",
        "plt.show()"
      ]
    },
    {
      "attachments": {},
      "cell_type": "markdown",
      "metadata": {
        "id": "sS4oqKWeifMJ"
      },
      "source": [
        "## Developing a Resnet-50 Model. "
      ]
    },
    {
      "cell_type": "code",
      "execution_count": 30,
      "metadata": {
        "id": "g2zh8gU_l-ML"
      },
      "outputs": [],
      "source": [
        "# Defining the identity block of the Resnet-50 Model. \n",
        "def identity_block(X, f, filters, training=True):\n",
        "    # filter of the three convs \n",
        "    f1,f2,f3 = filters\n",
        "    X_shortcut = X \n",
        "    \n",
        "    # First Component \n",
        "    X = tf.keras.layers.Conv2D(filters = f1, kernel_size = 1, strides = (1,1), padding = 'valid')(X)\n",
        "    X = tf.keras.layers.BatchNormalization(axis = 3)(X, training = training) # Default axis\n",
        "    X = tf.keras.layers.Activation('relu')(X)\n",
        "   \n",
        "    # Second Component \n",
        "    X = tf.keras.layers.Conv2D(filters = f2, kernel_size = f, strides = (1,1), padding = 'same')(X)\n",
        "    X = tf.keras.layers.BatchNormalization(axis = 3)(X, training = training) # Default axis\n",
        "    X = tf.keras.layers.Activation('relu')(X)\n",
        "   \n",
        "    # Third Component \n",
        "    X = tf.keras.layers.Conv2D(filters = f3, kernel_size = 1, strides = (1,1), padding = 'valid')(X)\n",
        "    X = tf.keras.layers.BatchNormalization(axis = 3)(X, training = training) # Default axis\n",
        "    \n",
        "    # Adding the two tensors \n",
        "    X = tf.keras.layers.Add()([X_shortcut,X])\n",
        "    X = tf.keras.layers.Activation('relu')(X)\n",
        "    \n",
        "    # Returning the last output\n",
        "    return X"
      ]
    },
    {
      "cell_type": "code",
      "execution_count": 31,
      "metadata": {
        "id": "pwjQoA1Ql-Gy"
      },
      "outputs": [],
      "source": [
        "# Defining the Convolution Block of the Resnet-50 Model. \n",
        "def convolutional_block(X, f, filters, s=2,training=True):\n",
        "    # filter of the three convs \n",
        "    f1,f2,f3 = filters\n",
        "    X_shortcut = X \n",
        "    \n",
        "    # First Component \n",
        "    X = tf.keras.layers.Conv2D(filters = f1, kernel_size = 1, strides = (1,1), padding = 'valid')(X)\n",
        "    X = tf.keras.layers.BatchNormalization(axis = 3)(X, training = training) # Default axis\n",
        "    X = tf.keras.layers.Activation('relu')(X)\n",
        "    \n",
        "    # Second Component \n",
        "    X = tf.keras.layers.Conv2D(filters = f2, kernel_size = f, strides = (s,s), padding = 'same')(X)\n",
        "    X = tf.keras.layers.BatchNormalization(axis = 3)(X, training = training) # Default axis\n",
        "    X = tf.keras.layers.Activation('relu')(X)\n",
        "    \n",
        "    # Third Component \n",
        "    X = tf.keras.layers.Conv2D(filters = f3, kernel_size = 1, strides = (1,1), padding = 'valid')(X)\n",
        "    X = tf.keras.layers.BatchNormalization(axis = 3)(X, training = training) # Default axis\n",
        "    \n",
        "    # Converting the Input Volume to the match the last output for addition. \n",
        "    X_shortcut =tf.keras.layers.Conv2D(filters = f3, kernel_size = 1, strides = (s,s), padding = 'valid')(X_shortcut)\n",
        "    X_shortcut = tf.keras.layers.BatchNormalization(axis = 3)(X_shortcut, training = training)\n",
        "    X = tf.keras.layers.Add()([X_shortcut,X])\n",
        "    X = tf.keras.layers.Activation('relu')(X)\n",
        "    \n",
        "    # Adding the last two tensors\n",
        "    X = tf.keras.layers.Add()([X, X_shortcut])\n",
        "    X = tf.keras.layers.Activation('relu')(X)\n",
        "    \n",
        "    # Returning the output tensor\n",
        "    return X"
      ]
    },
    {
      "cell_type": "code",
      "execution_count": 32,
      "metadata": {
        "id": "kSMyRY24l-Ct"
      },
      "outputs": [],
      "source": [
        "# Defining a modified Resnet-50 Model using the Identity and Convolution Blocks. \n",
        "def ResNet50(input_shape = (28, 28, 1), classes = 26):\n",
        "    \n",
        "    # Defining the input as a tensor with shape input_shape\n",
        "    X_input = tf.keras.Input(input_shape)\n",
        "    \n",
        "    # Zero-Padding\n",
        "    X = tf.keras.layers.ZeroPadding2D((3, 3))(X_input)\n",
        "    \n",
        "    # Stage 1\n",
        "    X = tf.keras.layers.Conv2D(64, (5, 5), strides = (1, 1))(X)\n",
        "    X = tf.keras.layers.BatchNormalization(axis = 3)(X)\n",
        "    X = tf.keras.layers.Activation('relu')(X)\n",
        "    X = tf.keras.layers.MaxPooling2D((3, 3), strides=(2, 2))(X)\n",
        "\n",
        "    # Stage 2\n",
        "    X = convolutional_block(X, f = 3, filters = [64, 64, 256], s = 1)\n",
        "    X = identity_block(X, 3, [64, 64, 256])\n",
        "    X = identity_block(X, 3, [64, 64, 256])\n",
        "    \n",
        "    # Add an Average Pool Layer\n",
        "    X = tf.keras.layers.AveragePooling2D((2,2))(X)\n",
        "\n",
        "    # Output Layer\n",
        "    X = tf.keras.layers.Flatten()(X)\n",
        "    X = tf.keras.layers.Dense(classes, activation='softmax')(X)\n",
        "    \n",
        "    # Create Model\n",
        "    model = tf.keras.Model(inputs = X_input, outputs = X)\n",
        "\n",
        "    return model"
      ]
    },
    {
      "cell_type": "code",
      "execution_count": 33,
      "metadata": {
        "id": "8mmXtNjfl96u"
      },
      "outputs": [],
      "source": [
        "model = ResNet50()"
      ]
    },
    {
      "cell_type": "code",
      "execution_count": 34,
      "metadata": {
        "id": "lMJRLJaP1FC7"
      },
      "outputs": [],
      "source": [
        "model.compile(optimizer=\"adam\",metrics=[\"accuracy\"],loss = \"sparse_categorical_crossentropy\")"
      ]
    },
    {
      "cell_type": "code",
      "execution_count": 36,
      "metadata": {
        "colab": {
          "base_uri": "https://localhost:8080/"
        },
        "id": "XNPioIRh9tMN",
        "outputId": "64bef033-6cc2-4597-a7eb-22c9fcd0efb9"
      },
      "outputs": [
        {
          "name": "stdout",
          "output_type": "stream",
          "text": [
            "Epoch 1/100\n",
            "858/858 [==============================] - 60s 70ms/step - loss: 0.1291 - accuracy: 0.9706 - val_loss: 0.2268 - val_accuracy: 0.9604\n",
            "Epoch 2/100\n",
            "858/858 [==============================] - 61s 71ms/step - loss: 0.1299 - accuracy: 0.9799 - val_loss: 0.3901 - val_accuracy: 0.9463\n",
            "Epoch 3/100\n",
            "858/858 [==============================] - 55s 64ms/step - loss: 0.0485 - accuracy: 0.9920 - val_loss: 0.8142 - val_accuracy: 0.9292\n",
            "Epoch 4/100\n",
            "858/858 [==============================] - 56s 65ms/step - loss: 0.0160 - accuracy: 0.9973 - val_loss: 0.3273 - val_accuracy: 0.9611\n",
            "Epoch 5/100\n",
            "858/858 [==============================] - 57s 67ms/step - loss: 4.2450e-06 - accuracy: 1.0000 - val_loss: 0.3203 - val_accuracy: 0.9611\n",
            "Epoch 6/100\n",
            "858/858 [==============================] - 57s 66ms/step - loss: 1.4584e-06 - accuracy: 1.0000 - val_loss: 0.3152 - val_accuracy: 0.9615\n",
            "Epoch 7/100\n",
            "858/858 [==============================] - 56s 65ms/step - loss: 1.1229e-06 - accuracy: 1.0000 - val_loss: 0.3122 - val_accuracy: 0.9618\n",
            "Epoch 8/100\n",
            "858/858 [==============================] - 56s 65ms/step - loss: 8.8408e-07 - accuracy: 1.0000 - val_loss: 0.3074 - val_accuracy: 0.9618\n",
            "Epoch 9/100\n",
            "858/858 [==============================] - 57s 67ms/step - loss: 5.2919e-07 - accuracy: 1.0000 - val_loss: 0.3069 - val_accuracy: 0.9622\n",
            "Epoch 10/100\n",
            "858/858 [==============================] - 56s 65ms/step - loss: 3.5034e-07 - accuracy: 1.0000 - val_loss: 0.3045 - val_accuracy: 0.9621\n",
            "Epoch 11/100\n",
            "858/858 [==============================] - 57s 66ms/step - loss: 5.4709e-07 - accuracy: 1.0000 - val_loss: 0.2985 - val_accuracy: 0.9629\n",
            "Epoch 12/100\n",
            "858/858 [==============================] - 55s 64ms/step - loss: 3.7544e-07 - accuracy: 1.0000 - val_loss: 0.2986 - val_accuracy: 0.9626\n",
            "Epoch 13/100\n",
            "858/858 [==============================] - 54s 63ms/step - loss: 1.9922e-07 - accuracy: 1.0000 - val_loss: 0.2884 - val_accuracy: 0.9632\n",
            "Epoch 14/100\n",
            "858/858 [==============================] - 55s 64ms/step - loss: 1.5910e-07 - accuracy: 1.0000 - val_loss: 0.2955 - val_accuracy: 0.9621\n",
            "Epoch 15/100\n",
            "858/858 [==============================] - 55s 64ms/step - loss: 8.5863e-08 - accuracy: 1.0000 - val_loss: 0.2907 - val_accuracy: 0.9622\n",
            "Epoch 16/100\n",
            "858/858 [==============================] - 57s 66ms/step - loss: 3.9772e-08 - accuracy: 1.0000 - val_loss: 0.2864 - val_accuracy: 0.9631\n",
            "Epoch 17/100\n",
            "858/858 [==============================] - 56s 65ms/step - loss: 3.7167e-08 - accuracy: 1.0000 - val_loss: 0.2802 - val_accuracy: 0.9635\n",
            "Epoch 18/100\n",
            "858/858 [==============================] - 54s 63ms/step - loss: 4.0618e-08 - accuracy: 1.0000 - val_loss: 0.2789 - val_accuracy: 0.9626\n",
            "Epoch 19/100\n",
            "858/858 [==============================] - 53s 62ms/step - loss: 1.4528e-08 - accuracy: 1.0000 - val_loss: 0.2735 - val_accuracy: 0.9637\n",
            "Epoch 20/100\n",
            "858/858 [==============================] - 53s 61ms/step - loss: 8.2628e-09 - accuracy: 1.0000 - val_loss: 0.2687 - val_accuracy: 0.9643\n",
            "Epoch 21/100\n",
            "858/858 [==============================] - 54s 63ms/step - loss: 4.1562e-08 - accuracy: 1.0000 - val_loss: 0.2861 - val_accuracy: 0.9642\n",
            "Epoch 22/100\n",
            "858/858 [==============================] - 56s 65ms/step - loss: 6.4435e-09 - accuracy: 1.0000 - val_loss: 0.2811 - val_accuracy: 0.9646\n",
            "Epoch 23/100\n",
            "858/858 [==============================] - 61s 71ms/step - loss: 7.2250e-09 - accuracy: 1.0000 - val_loss: 0.2830 - val_accuracy: 0.9668\n",
            "Epoch 24/100\n",
            "858/858 [==============================] - 57s 66ms/step - loss: 4.4418e-09 - accuracy: 1.0000 - val_loss: 0.2684 - val_accuracy: 0.9707\n",
            "Epoch 25/100\n",
            "858/858 [==============================] - 53s 62ms/step - loss: 2.6833e-09 - accuracy: 1.0000 - val_loss: 0.2662 - val_accuracy: 0.9689\n",
            "Epoch 26/100\n",
            "858/858 [==============================] - 56s 65ms/step - loss: 1.5154e-09 - accuracy: 1.0000 - val_loss: 0.2635 - val_accuracy: 0.9683\n",
            "Epoch 27/100\n",
            "858/858 [==============================] - 60s 69ms/step - loss: 9.8129e-10 - accuracy: 1.0000 - val_loss: 0.2649 - val_accuracy: 0.9674\n",
            "Epoch 28/100\n",
            "858/858 [==============================] - 56s 65ms/step - loss: 5.6880e-10 - accuracy: 1.0000 - val_loss: 0.2709 - val_accuracy: 0.9668\n",
            "Epoch 29/100\n",
            "858/858 [==============================] - 54s 63ms/step - loss: 2.8223e-10 - accuracy: 1.0000 - val_loss: 0.2657 - val_accuracy: 0.9678\n",
            "Epoch 30/100\n",
            "858/858 [==============================] - 53s 62ms/step - loss: 4.1249e-10 - accuracy: 1.0000 - val_loss: 0.2616 - val_accuracy: 0.9677\n",
            "Epoch 31/100\n",
            "858/858 [==============================] - 54s 63ms/step - loss: 3.1262e-10 - accuracy: 1.0000 - val_loss: 0.2605 - val_accuracy: 0.9670\n",
            "Epoch 32/100\n",
            "858/858 [==============================] - 54s 63ms/step - loss: 1.5631e-10 - accuracy: 1.0000 - val_loss: 0.2561 - val_accuracy: 0.9688\n",
            "Epoch 33/100\n",
            "123/858 [===>..........................] - ETA: 44s - loss: 3.0287e-11 - accuracy: 1.0000"
          ]
        },
        {
          "ename": "KeyboardInterrupt",
          "evalue": "",
          "output_type": "error",
          "traceback": [
            "\u001b[0;31m---------------------------------------------------------------------------\u001b[0m",
            "\u001b[0;31mKeyboardInterrupt\u001b[0m                         Traceback (most recent call last)",
            "Cell \u001b[0;32mIn[36], line 1\u001b[0m\n\u001b[0;32m----> 1\u001b[0m history \u001b[39m=\u001b[39m model\u001b[39m.\u001b[39;49mfit(train_x, train_y, validation_data \u001b[39m=\u001b[39;49m (test_x, test_y), epochs \u001b[39m=\u001b[39;49m\u001b[39m100\u001b[39;49m)\n",
            "File \u001b[0;32m~/anaconda3/lib/python3.10/site-packages/keras/src/utils/traceback_utils.py:65\u001b[0m, in \u001b[0;36mfilter_traceback.<locals>.error_handler\u001b[0;34m(*args, **kwargs)\u001b[0m\n\u001b[1;32m     63\u001b[0m filtered_tb \u001b[39m=\u001b[39m \u001b[39mNone\u001b[39;00m\n\u001b[1;32m     64\u001b[0m \u001b[39mtry\u001b[39;00m:\n\u001b[0;32m---> 65\u001b[0m     \u001b[39mreturn\u001b[39;00m fn(\u001b[39m*\u001b[39;49margs, \u001b[39m*\u001b[39;49m\u001b[39m*\u001b[39;49mkwargs)\n\u001b[1;32m     66\u001b[0m \u001b[39mexcept\u001b[39;00m \u001b[39mException\u001b[39;00m \u001b[39mas\u001b[39;00m e:\n\u001b[1;32m     67\u001b[0m     filtered_tb \u001b[39m=\u001b[39m _process_traceback_frames(e\u001b[39m.\u001b[39m__traceback__)\n",
            "File \u001b[0;32m~/anaconda3/lib/python3.10/site-packages/keras/src/engine/training.py:1742\u001b[0m, in \u001b[0;36mModel.fit\u001b[0;34m(self, x, y, batch_size, epochs, verbose, callbacks, validation_split, validation_data, shuffle, class_weight, sample_weight, initial_epoch, steps_per_epoch, validation_steps, validation_batch_size, validation_freq, max_queue_size, workers, use_multiprocessing)\u001b[0m\n\u001b[1;32m   1734\u001b[0m \u001b[39mwith\u001b[39;00m tf\u001b[39m.\u001b[39mprofiler\u001b[39m.\u001b[39mexperimental\u001b[39m.\u001b[39mTrace(\n\u001b[1;32m   1735\u001b[0m     \u001b[39m\"\u001b[39m\u001b[39mtrain\u001b[39m\u001b[39m\"\u001b[39m,\n\u001b[1;32m   1736\u001b[0m     epoch_num\u001b[39m=\u001b[39mepoch,\n\u001b[0;32m   (...)\u001b[0m\n\u001b[1;32m   1739\u001b[0m     _r\u001b[39m=\u001b[39m\u001b[39m1\u001b[39m,\n\u001b[1;32m   1740\u001b[0m ):\n\u001b[1;32m   1741\u001b[0m     callbacks\u001b[39m.\u001b[39mon_train_batch_begin(step)\n\u001b[0;32m-> 1742\u001b[0m     tmp_logs \u001b[39m=\u001b[39m \u001b[39mself\u001b[39;49m\u001b[39m.\u001b[39;49mtrain_function(iterator)\n\u001b[1;32m   1743\u001b[0m     \u001b[39mif\u001b[39;00m data_handler\u001b[39m.\u001b[39mshould_sync:\n\u001b[1;32m   1744\u001b[0m         context\u001b[39m.\u001b[39masync_wait()\n",
            "File \u001b[0;32m~/anaconda3/lib/python3.10/site-packages/tensorflow/python/util/traceback_utils.py:150\u001b[0m, in \u001b[0;36mfilter_traceback.<locals>.error_handler\u001b[0;34m(*args, **kwargs)\u001b[0m\n\u001b[1;32m    148\u001b[0m filtered_tb \u001b[39m=\u001b[39m \u001b[39mNone\u001b[39;00m\n\u001b[1;32m    149\u001b[0m \u001b[39mtry\u001b[39;00m:\n\u001b[0;32m--> 150\u001b[0m   \u001b[39mreturn\u001b[39;00m fn(\u001b[39m*\u001b[39;49margs, \u001b[39m*\u001b[39;49m\u001b[39m*\u001b[39;49mkwargs)\n\u001b[1;32m    151\u001b[0m \u001b[39mexcept\u001b[39;00m \u001b[39mException\u001b[39;00m \u001b[39mas\u001b[39;00m e:\n\u001b[1;32m    152\u001b[0m   filtered_tb \u001b[39m=\u001b[39m _process_traceback_frames(e\u001b[39m.\u001b[39m__traceback__)\n",
            "File \u001b[0;32m~/anaconda3/lib/python3.10/site-packages/tensorflow/python/eager/polymorphic_function/polymorphic_function.py:825\u001b[0m, in \u001b[0;36mFunction.__call__\u001b[0;34m(self, *args, **kwds)\u001b[0m\n\u001b[1;32m    822\u001b[0m compiler \u001b[39m=\u001b[39m \u001b[39m\"\u001b[39m\u001b[39mxla\u001b[39m\u001b[39m\"\u001b[39m \u001b[39mif\u001b[39;00m \u001b[39mself\u001b[39m\u001b[39m.\u001b[39m_jit_compile \u001b[39melse\u001b[39;00m \u001b[39m\"\u001b[39m\u001b[39mnonXla\u001b[39m\u001b[39m\"\u001b[39m\n\u001b[1;32m    824\u001b[0m \u001b[39mwith\u001b[39;00m OptionalXlaContext(\u001b[39mself\u001b[39m\u001b[39m.\u001b[39m_jit_compile):\n\u001b[0;32m--> 825\u001b[0m   result \u001b[39m=\u001b[39m \u001b[39mself\u001b[39;49m\u001b[39m.\u001b[39;49m_call(\u001b[39m*\u001b[39;49margs, \u001b[39m*\u001b[39;49m\u001b[39m*\u001b[39;49mkwds)\n\u001b[1;32m    827\u001b[0m new_tracing_count \u001b[39m=\u001b[39m \u001b[39mself\u001b[39m\u001b[39m.\u001b[39mexperimental_get_tracing_count()\n\u001b[1;32m    828\u001b[0m without_tracing \u001b[39m=\u001b[39m (tracing_count \u001b[39m==\u001b[39m new_tracing_count)\n",
            "File \u001b[0;32m~/anaconda3/lib/python3.10/site-packages/tensorflow/python/eager/polymorphic_function/polymorphic_function.py:857\u001b[0m, in \u001b[0;36mFunction._call\u001b[0;34m(self, *args, **kwds)\u001b[0m\n\u001b[1;32m    854\u001b[0m   \u001b[39mself\u001b[39m\u001b[39m.\u001b[39m_lock\u001b[39m.\u001b[39mrelease()\n\u001b[1;32m    855\u001b[0m   \u001b[39m# In this case we have created variables on the first call, so we run the\u001b[39;00m\n\u001b[1;32m    856\u001b[0m   \u001b[39m# defunned version which is guaranteed to never create variables.\u001b[39;00m\n\u001b[0;32m--> 857\u001b[0m   \u001b[39mreturn\u001b[39;00m \u001b[39mself\u001b[39;49m\u001b[39m.\u001b[39;49m_no_variable_creation_fn(\u001b[39m*\u001b[39;49margs, \u001b[39m*\u001b[39;49m\u001b[39m*\u001b[39;49mkwds)  \u001b[39m# pylint: disable=not-callable\u001b[39;00m\n\u001b[1;32m    858\u001b[0m \u001b[39melif\u001b[39;00m \u001b[39mself\u001b[39m\u001b[39m.\u001b[39m_variable_creation_fn \u001b[39mis\u001b[39;00m \u001b[39mnot\u001b[39;00m \u001b[39mNone\u001b[39;00m:\n\u001b[1;32m    859\u001b[0m   \u001b[39m# Release the lock early so that multiple threads can perform the call\u001b[39;00m\n\u001b[1;32m    860\u001b[0m   \u001b[39m# in parallel.\u001b[39;00m\n\u001b[1;32m    861\u001b[0m   \u001b[39mself\u001b[39m\u001b[39m.\u001b[39m_lock\u001b[39m.\u001b[39mrelease()\n",
            "File \u001b[0;32m~/anaconda3/lib/python3.10/site-packages/tensorflow/python/eager/polymorphic_function/tracing_compiler.py:148\u001b[0m, in \u001b[0;36mTracingCompiler.__call__\u001b[0;34m(self, *args, **kwargs)\u001b[0m\n\u001b[1;32m    145\u001b[0m \u001b[39mwith\u001b[39;00m \u001b[39mself\u001b[39m\u001b[39m.\u001b[39m_lock:\n\u001b[1;32m    146\u001b[0m   (concrete_function,\n\u001b[1;32m    147\u001b[0m    filtered_flat_args) \u001b[39m=\u001b[39m \u001b[39mself\u001b[39m\u001b[39m.\u001b[39m_maybe_define_function(args, kwargs)\n\u001b[0;32m--> 148\u001b[0m \u001b[39mreturn\u001b[39;00m concrete_function\u001b[39m.\u001b[39;49m_call_flat(\n\u001b[1;32m    149\u001b[0m     filtered_flat_args, captured_inputs\u001b[39m=\u001b[39;49mconcrete_function\u001b[39m.\u001b[39;49mcaptured_inputs)\n",
            "File \u001b[0;32m~/anaconda3/lib/python3.10/site-packages/tensorflow/python/eager/polymorphic_function/monomorphic_function.py:1349\u001b[0m, in \u001b[0;36mConcreteFunction._call_flat\u001b[0;34m(self, args, captured_inputs)\u001b[0m\n\u001b[1;32m   1345\u001b[0m possible_gradient_type \u001b[39m=\u001b[39m gradients_util\u001b[39m.\u001b[39mPossibleTapeGradientTypes(args)\n\u001b[1;32m   1346\u001b[0m \u001b[39mif\u001b[39;00m (possible_gradient_type \u001b[39m==\u001b[39m gradients_util\u001b[39m.\u001b[39mPOSSIBLE_GRADIENT_TYPES_NONE\n\u001b[1;32m   1347\u001b[0m     \u001b[39mand\u001b[39;00m executing_eagerly):\n\u001b[1;32m   1348\u001b[0m   \u001b[39m# No tape is watching; skip to running the function.\u001b[39;00m\n\u001b[0;32m-> 1349\u001b[0m   \u001b[39mreturn\u001b[39;00m \u001b[39mself\u001b[39m\u001b[39m.\u001b[39m_build_call_outputs(\u001b[39mself\u001b[39;49m\u001b[39m.\u001b[39;49m_inference_function(\u001b[39m*\u001b[39;49margs))\n\u001b[1;32m   1350\u001b[0m forward_backward \u001b[39m=\u001b[39m \u001b[39mself\u001b[39m\u001b[39m.\u001b[39m_select_forward_and_backward_functions(\n\u001b[1;32m   1351\u001b[0m     args,\n\u001b[1;32m   1352\u001b[0m     possible_gradient_type,\n\u001b[1;32m   1353\u001b[0m     executing_eagerly)\n\u001b[1;32m   1354\u001b[0m forward_function, args_with_tangents \u001b[39m=\u001b[39m forward_backward\u001b[39m.\u001b[39mforward()\n",
            "File \u001b[0;32m~/anaconda3/lib/python3.10/site-packages/tensorflow/python/eager/polymorphic_function/atomic_function.py:196\u001b[0m, in \u001b[0;36mAtomicFunction.__call__\u001b[0;34m(self, *args)\u001b[0m\n\u001b[1;32m    194\u001b[0m \u001b[39mwith\u001b[39;00m record\u001b[39m.\u001b[39mstop_recording():\n\u001b[1;32m    195\u001b[0m   \u001b[39mif\u001b[39;00m \u001b[39mself\u001b[39m\u001b[39m.\u001b[39m_bound_context\u001b[39m.\u001b[39mexecuting_eagerly():\n\u001b[0;32m--> 196\u001b[0m     outputs \u001b[39m=\u001b[39m \u001b[39mself\u001b[39;49m\u001b[39m.\u001b[39;49m_bound_context\u001b[39m.\u001b[39;49mcall_function(\n\u001b[1;32m    197\u001b[0m         \u001b[39mself\u001b[39;49m\u001b[39m.\u001b[39;49mname,\n\u001b[1;32m    198\u001b[0m         \u001b[39mlist\u001b[39;49m(args),\n\u001b[1;32m    199\u001b[0m         \u001b[39mlen\u001b[39;49m(\u001b[39mself\u001b[39;49m\u001b[39m.\u001b[39;49mfunction_type\u001b[39m.\u001b[39;49mflat_outputs),\n\u001b[1;32m    200\u001b[0m     )\n\u001b[1;32m    201\u001b[0m   \u001b[39melse\u001b[39;00m:\n\u001b[1;32m    202\u001b[0m     outputs \u001b[39m=\u001b[39m make_call_op_in_graph(\u001b[39mself\u001b[39m, \u001b[39mlist\u001b[39m(args))\n",
            "File \u001b[0;32m~/anaconda3/lib/python3.10/site-packages/tensorflow/python/eager/context.py:1457\u001b[0m, in \u001b[0;36mContext.call_function\u001b[0;34m(self, name, tensor_inputs, num_outputs)\u001b[0m\n\u001b[1;32m   1455\u001b[0m cancellation_context \u001b[39m=\u001b[39m cancellation\u001b[39m.\u001b[39mcontext()\n\u001b[1;32m   1456\u001b[0m \u001b[39mif\u001b[39;00m cancellation_context \u001b[39mis\u001b[39;00m \u001b[39mNone\u001b[39;00m:\n\u001b[0;32m-> 1457\u001b[0m   outputs \u001b[39m=\u001b[39m execute\u001b[39m.\u001b[39;49mexecute(\n\u001b[1;32m   1458\u001b[0m       name\u001b[39m.\u001b[39;49mdecode(\u001b[39m\"\u001b[39;49m\u001b[39mutf-8\u001b[39;49m\u001b[39m\"\u001b[39;49m),\n\u001b[1;32m   1459\u001b[0m       num_outputs\u001b[39m=\u001b[39;49mnum_outputs,\n\u001b[1;32m   1460\u001b[0m       inputs\u001b[39m=\u001b[39;49mtensor_inputs,\n\u001b[1;32m   1461\u001b[0m       attrs\u001b[39m=\u001b[39;49mattrs,\n\u001b[1;32m   1462\u001b[0m       ctx\u001b[39m=\u001b[39;49m\u001b[39mself\u001b[39;49m,\n\u001b[1;32m   1463\u001b[0m   )\n\u001b[1;32m   1464\u001b[0m \u001b[39melse\u001b[39;00m:\n\u001b[1;32m   1465\u001b[0m   outputs \u001b[39m=\u001b[39m execute\u001b[39m.\u001b[39mexecute_with_cancellation(\n\u001b[1;32m   1466\u001b[0m       name\u001b[39m.\u001b[39mdecode(\u001b[39m\"\u001b[39m\u001b[39mutf-8\u001b[39m\u001b[39m\"\u001b[39m),\n\u001b[1;32m   1467\u001b[0m       num_outputs\u001b[39m=\u001b[39mnum_outputs,\n\u001b[0;32m   (...)\u001b[0m\n\u001b[1;32m   1471\u001b[0m       cancellation_manager\u001b[39m=\u001b[39mcancellation_context,\n\u001b[1;32m   1472\u001b[0m   )\n",
            "File \u001b[0;32m~/anaconda3/lib/python3.10/site-packages/tensorflow/python/eager/execute.py:53\u001b[0m, in \u001b[0;36mquick_execute\u001b[0;34m(op_name, num_outputs, inputs, attrs, ctx, name)\u001b[0m\n\u001b[1;32m     51\u001b[0m \u001b[39mtry\u001b[39;00m:\n\u001b[1;32m     52\u001b[0m   ctx\u001b[39m.\u001b[39mensure_initialized()\n\u001b[0;32m---> 53\u001b[0m   tensors \u001b[39m=\u001b[39m pywrap_tfe\u001b[39m.\u001b[39;49mTFE_Py_Execute(ctx\u001b[39m.\u001b[39;49m_handle, device_name, op_name,\n\u001b[1;32m     54\u001b[0m                                       inputs, attrs, num_outputs)\n\u001b[1;32m     55\u001b[0m \u001b[39mexcept\u001b[39;00m core\u001b[39m.\u001b[39m_NotOkStatusException \u001b[39mas\u001b[39;00m e:\n\u001b[1;32m     56\u001b[0m   \u001b[39mif\u001b[39;00m name \u001b[39mis\u001b[39;00m \u001b[39mnot\u001b[39;00m \u001b[39mNone\u001b[39;00m:\n",
            "\u001b[0;31mKeyboardInterrupt\u001b[0m: "
          ]
        }
      ],
      "source": [
        "history = model.fit(train_x, train_y, validation_data = (test_x, test_y), epochs =100)"
      ]
    },
    {
      "cell_type": "code",
      "execution_count": null,
      "metadata": {
        "colab": {
          "base_uri": "https://localhost:8080/",
          "height": 544
        },
        "id": "heV3org41l1O",
        "outputId": "57ad9a6d-9e7b-422d-c897-f8beefa5faa7"
      },
      "outputs": [
        {
          "data": {
            "image/png": "[encoded data removed]",
            "text/plain": [
              "<Figure size 432x288 with 1 Axes>"
            ]
          },
          "metadata": {
            "needs_background": "light"
          },
          "output_type": "display_data"
        },
        {
          "data": {
            "image/png": "[encoded data removed]",
            "text/plain": [
              "<Figure size 432x288 with 1 Axes>"
            ]
          },
          "metadata": {
            "needs_background": "light"
          },
          "output_type": "display_data"
        }
      ],
      "source": [
        "# Plotting model performance.\n",
        "acc = history.history['accuracy']\n",
        "val_acc = history.history['val_accuracy']\n",
        "loss = history.history['loss']\n",
        "val_loss = history.history['val_loss']\n",
        "\n",
        "epochs = range(len(acc))\n",
        "\n",
        "plt.plot(epochs, acc, 'r', label='Training accuracy')\n",
        "plt.plot(epochs, val_acc, 'b', label='Validation accuracy')\n",
        "plt.title('Training and validation accuracy')\n",
        "plt.legend()\n",
        "plt.figure()\n",
        "\n",
        "plt.plot(epochs, loss, 'r', label='Training Loss')\n",
        "plt.plot(epochs, val_loss, 'b', label='Validation Loss')\n",
        "plt.title('Training and validation loss')\n",
        "plt.legend()\n",
        "\n",
        "plt.show()"
      ]
    },
    {
      "cell_type": "code",
      "execution_count": null,
      "metadata": {
        "colab": {
          "base_uri": "https://localhost:8080/"
        },
        "id": "MJypbV3R8gW-",
        "outputId": "2b6ae14b-b036-49f1-ba96-0d73249e7bc4"
      },
      "outputs": [
        {
          "name": "stdout",
          "output_type": "stream",
          "text": [
            "INFO:tensorflow:Assets written to: saved_model/my_model/assets\n"
          ]
        }
      ],
      "source": [
        "# Saving the model for future use. \n",
        "!mkdir -p saved_model\n",
        "model.save('saved_model/my_model') "
      ]
    },
    {
      "cell_type": "code",
      "execution_count": null,
      "metadata": {
        "colab": {
          "base_uri": "https://localhost:8080/",
          "height": 34
        },
        "id": "rUXDtqyv876i",
        "outputId": "4d83363a-2fa1-471f-86a9-5d3c6dc0cfac"
      },
      "outputs": [
        {
          "data": {
            "application/javascript": "\n    async function download(id, filename, size) {\n      if (!google.colab.kernel.accessAllowed) {\n        return;\n      }\n      const div = document.createElement('div');\n      const label = document.createElement('label');\n      label.textContent = `Downloading \"${filename}\": `;\n      div.appendChild(label);\n      const progress = document.createElement('progress');\n      progress.max = size;\n      div.appendChild(progress);\n      document.body.appendChild(div);\n\n      const buffers = [];\n      let downloaded = 0;\n\n      const channel = await google.colab.kernel.comms.open(id);\n      // Send a message to notify the kernel that we're ready.\n      channel.send({})\n\n      for await (const message of channel.messages) {\n        // Send a message to notify the kernel that we're ready.\n        channel.send({})\n        if (message.buffers) {\n          for (const buffer of message.buffers) {\n            buffers.push(buffer);\n            downloaded += buffer.byteLength;\n            progress.value = downloaded;\n          }\n        }\n      }\n      const blob = new Blob(buffers, {type: 'application/binary'});\n      const a = document.createElement('a');\n      a.href = window.URL.createObjectURL(blob);\n      a.download = filename;\n      div.appendChild(a);\n      a.click();\n      div.remove();\n    }\n  ",
            "text/plain": [
              "<IPython.core.display.Javascript object>"
            ]
          },
          "metadata": {},
          "output_type": "display_data"
        },
        {
          "data": {
            "application/javascript": "download(\"download_6b8233f0-d5ee-4634-aeea-b4f445d1e10a\", \"saved_model\", 4096)",
            "text/plain": [
              "<IPython.core.display.Javascript object>"
            ]
          },
          "metadata": {},
          "output_type": "display_data"
        }
      ],
      "source": [
        "from google.colab import files\n",
        "files.download('saved_model')"
      ]
    },
    {
      "cell_type": "code",
      "execution_count": null,
      "metadata": {
        "colab": {
          "base_uri": "https://localhost:8080/",
          "height": 16
        },
        "id": "87rBIVoVTwPp",
        "outputId": "2b69229d-3113-4867-893a-a67d1f762aea"
      },
      "outputs": [
        {
          "data": {
            "application/javascript": "\n    async function download(id, filename, size) {\n      if (!google.colab.kernel.accessAllowed) {\n        return;\n      }\n      const div = document.createElement('div');\n      const label = document.createElement('label');\n      label.textContent = `Downloading \"${filename}\": `;\n      div.appendChild(label);\n      const progress = document.createElement('progress');\n      progress.max = size;\n      div.appendChild(progress);\n      document.body.appendChild(div);\n\n      const buffers = [];\n      let downloaded = 0;\n\n      const channel = await google.colab.kernel.comms.open(id);\n      // Send a message to notify the kernel that we're ready.\n      channel.send({})\n\n      for await (const message of channel.messages) {\n        // Send a message to notify the kernel that we're ready.\n        channel.send({})\n        if (message.buffers) {\n          for (const buffer of message.buffers) {\n            buffers.push(buffer);\n            downloaded += buffer.byteLength;\n            progress.value = downloaded;\n          }\n        }\n      }\n      const blob = new Blob(buffers, {type: 'application/binary'});\n      const a = document.createElement('a');\n      a.href = window.URL.createObjectURL(blob);\n      a.download = filename;\n      div.appendChild(a);\n      a.click();\n      div.remove();\n    }\n  ",
            "text/plain": [
              "<IPython.core.display.Javascript object>"
            ]
          },
          "metadata": {},
          "output_type": "display_data"
        },
        {
          "data": {
            "application/javascript": "download(\"download_7101f3cd-5413-40fc-9ed6-11cd3f3454a4\", \"keras_metadata.pb\", 84485)",
            "text/plain": [
              "<IPython.core.display.Javascript object>"
            ]
          },
          "metadata": {},
          "output_type": "display_data"
        },
        {
          "data": {
            "application/javascript": "\n    async function download(id, filename, size) {\n      if (!google.colab.kernel.accessAllowed) {\n        return;\n      }\n      const div = document.createElement('div');\n      const label = document.createElement('label');\n      label.textContent = `Downloading \"${filename}\": `;\n      div.appendChild(label);\n      const progress = document.createElement('progress');\n      progress.max = size;\n      div.appendChild(progress);\n      document.body.appendChild(div);\n\n      const buffers = [];\n      let downloaded = 0;\n\n      const channel = await google.colab.kernel.comms.open(id);\n      // Send a message to notify the kernel that we're ready.\n      channel.send({})\n\n      for await (const message of channel.messages) {\n        // Send a message to notify the kernel that we're ready.\n        channel.send({})\n        if (message.buffers) {\n          for (const buffer of message.buffers) {\n            buffers.push(buffer);\n            downloaded += buffer.byteLength;\n            progress.value = downloaded;\n          }\n        }\n      }\n      const blob = new Blob(buffers, {type: 'application/binary'});\n      const a = document.createElement('a');\n      a.href = window.URL.createObjectURL(blob);\n      a.download = filename;\n      div.appendChild(a);\n      a.click();\n      div.remove();\n    }\n  ",
            "text/plain": [
              "<IPython.core.display.Javascript object>"
            ]
          },
          "metadata": {},
          "output_type": "display_data"
        },
        {
          "data": {
            "application/javascript": "download(\"download_0f3a5087-17de-44e7-a27d-36a2a77331ec\", \"saved_model.pb\", 813370)",
            "text/plain": [
              "<IPython.core.display.Javascript object>"
            ]
          },
          "metadata": {},
          "output_type": "display_data"
        }
      ],
      "source": [
        "from google.colab import files\n",
        "!zip -r ./saved_model.zip ./saved_model/\n",
        "files.download('/content/saved_model.zip')"
      ]
    },
    {
      "attachments": {},
      "cell_type": "markdown",
      "metadata": {
        "id": "basxo0OR2Wzi"
      },
      "source": [
        "## Live Image Testing"
      ]
    },
    {
      "cell_type": "code",
      "execution_count": null,
      "metadata": {
        "id": "XLp29rm29PhO"
      },
      "outputs": [],
      "source": [
        "# Importing Relevant Libraries\n",
        "import keras\n",
        "import numpy as np\n",
        "from PIL import Image\n",
        "import string\n",
        "import pandas as pd\n",
        "import tensorflow as tf"
      ]
    },
    {
      "cell_type": "code",
      "execution_count": null,
      "metadata": {
        "id": "4PlmrH1yRF2Y"
      },
      "outputs": [],
      "source": [
        "# Checking current directory\n",
        "import os\n",
        "print(os.getcwd())"
      ]
    },
    {
      "cell_type": "code",
      "execution_count": null,
      "metadata": {
        "id": "U1-KTg6bVW_F"
      },
      "outputs": [],
      "source": [
        "# Importing OpenCV\n",
        "import cv2\n",
        "from matplotlib import pyplot\n",
        "\n",
        "## Setting our variables\n",
        "dim = (28, 28) # training set dimensions\n",
        "letters = list(string.ascii_lowercase) # rerun the list of letter to translate predictions\n",
        "\n",
        "x0 = 1920 // 2 - 400 # 400px left of center\n",
        "x1 = 1920 // 2 + 400 # 400px right of center\n",
        "y0 = 1080 // 2 - 400 # 400px right of center\n",
        "y1 = 1080 // 2 + 400 # 400px right of center\n",
        "\n",
        "\n",
        "# initiate video capture\n",
        "video=cv2.VideoCapture(0)\n",
        "\n",
        "cv2.namedWindow('Webcam') # Create a named window\n",
        "cv2.moveWindow('Webcam',40,30) # Place that window\n",
        "\n",
        "while video.isOpened(): # While user didn't quit the live recording, run the window\n",
        "    ret,capture = video.read() # grabbing each frame of webcam footage\n",
        "    cropped = capture[y0:y1, x0:x1] # Slicing to get centered square for model\n",
        "    img = cv2.cvtColor(cropped, cv2.COLOR_BGR2GRAY) # Gray scale image, like training dataset\n",
        "    img = cv2.GaussianBlur(img, (5, 5), 0) # Smoothing out the image\n",
        "    img = cv2.resize(img, dim) # resizing frame size, must match video output frame size\n",
        "    pyplot.imshow(img, cmap='gray') # Show given image to the model\n",
        "    pyplot.show() # display it\n",
        "    img = np.reshape(img, (1,img.shape[0],img.shape[1],1))\n",
        "    img = tf.cast(img, tf.float32)\n",
        "    pred=model.predict(img)\n",
        "\n",
        "    # Visualising the results live\n",
        "    cv2.rectangle(capture, (x0,y0),(x1,y1),(255,0,0),2) # Adding a rectangle to the image\n",
        "    cv2.putText(capture,'{} res50'.format(letters[np.argmax(pred[0])]),(x0+25,y0+50),cv2.FONT_HERSHEY_SIMPLEX,0.9,(0,255,0),1) # predicted letter\n",
        "    cv2.imshow('Webcam', capture) # Show video\n",
        "    \n",
        "    # Print results in log\n",
        "    print(pred) # Print predicted array with attribution to each letter\n",
        "    print(letters[np.argmax(pred[0])]) # Print in log predicted letter\n",
        "    \n",
        "    # Quit live footage\n",
        "    key = cv2.waitKey(1)\n",
        "    if key == ord('q'):\n",
        "        break\n",
        "video.release()\n",
        "cv2.destroyAllWindows()"
      ]
    }
  ],
  "metadata": {
    "accelerator": "GPU",
    "colab": {
      "collapsed_sections": [],
      "include_colab_link": true,
      "name": "Final_Project.ipynb",
      "provenance": []
    },
    "kernelspec": {
      "display_name": "Python 3",
      "name": "python3"
    },
    "language_info": {
      "codemirror_mode": {
        "name": "ipython",
        "version": 3
      },
      "file_extension": ".py",
      "mimetype": "text/x-python",
      "name": "python",
      "nbconvert_exporter": "python",
      "pygments_lexer": "ipython3",
      "version": "3.10.9"
    }
  },
  "nbformat": 4,
  "nbformat_minor": 0
}
